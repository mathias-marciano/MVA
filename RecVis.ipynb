{
  "nbformat": 4,
  "nbformat_minor": 0,
  "metadata": {
    "colab": {
      "provenance": [],
      "authorship_tag": "ABX9TyOG7AZlvJiGDEECf6dYRgpM",
      "include_colab_link": true
    },
    "kernelspec": {
      "name": "python3",
      "display_name": "Python 3"
    },
    "language_info": {
      "name": "python"
    },
    "accelerator": "GPU",
    "gpuClass": "standard"
  },
  "cells": [
    {
      "cell_type": "markdown",
      "metadata": {
        "id": "view-in-github",
        "colab_type": "text"
      },
      "source": [
        "<a href=\"https://colab.research.google.com/github/mathias-marciano/MVA/blob/main/RecVis.ipynb\" target=\"_parent\"><img src=\"https://colab.research.google.com/assets/colab-badge.svg\" alt=\"Open In Colab\"/></a>"
      ]
    },
    {
      "cell_type": "code",
      "execution_count": null,
      "metadata": {
        "id": "V3ntBkqA5fHc"
      },
      "outputs": [],
      "source": [
        "!wget --recursive --continue --wait=1 --user bobsl-00070 --password weim4eiR https://thor.robots.ox.ac.uk/\\~vgg/data/bobsl/features/i3d_c2281_16f_m8_-15_4_d0.8_-3_22/"
      ]
    },
    {
      "cell_type": "code",
      "source": [
        "!unzip \"/content/subtitle_align-main.zip\" "
      ],
      "metadata": {
        "id": "AvnjzcjAcqcG"
      },
      "execution_count": null,
      "outputs": []
    },
    {
      "cell_type": "code",
      "source": [
        "!tar -xvf \"/content/thor.robots.ox.ac.uk/~vgg/data/bobsl/spottings.tar.gz\""
      ],
      "metadata": {
        "id": "DJ0ucCpFBBcj"
      },
      "execution_count": null,
      "outputs": []
    },
    {
      "cell_type": "code",
      "source": [
        "!tar -xvf \"/content/thor.robots.ox.ac.uk/~vgg/data/bobsl/subtitles.tar.gz\""
      ],
      "metadata": {
        "id": "2os-sK9dBDr_"
      },
      "execution_count": null,
      "outputs": []
    },
    {
      "cell_type": "code",
      "source": [
        "!wget \"https://drive.google.com/u/0/uc?id=1GNIm1XXRDQNFNGZVbqFcyVTZo3dFzOlD&export=download&confirm=t&uuid=eb54600e-a85c-4316-b040-26fc8255a0b2&at=ACjLJWkjo6hyeCUA8xIEZQH-Qi4b:1672869258541\""
      ],
      "metadata": {
        "id": "Is5wKR3hkaXs"
      },
      "execution_count": null,
      "outputs": []
    },
    {
      "cell_type": "code",
      "source": [
        "#----------------------------------------TRAIN----------------------#\n",
        "!gzip -r -d -v \"/content/thor.robots.ox.ac.uk/~vgg/data/bobsl/features/i3d_c2281_16f_m8_-15_4_d0.8_-3_22/5085344787448740525/features.mat.gz\"\n",
        "!gzip -r -d -v \"/content/thor.robots.ox.ac.uk/~vgg/data/bobsl/features/i3d_c2281_16f_m8_-15_4_d0.8_-3_22/5085357672350628540/features.mat.gz\"\n",
        "!gzip -r -d -v \"/content/thor.robots.ox.ac.uk/~vgg/data/bobsl/features/i3d_c2281_16f_m8_-15_4_d0.8_-3_22/5086465773912997411/features.mat.gz\"\n",
        "!gzip -r -d -v \"/content/thor.robots.ox.ac.uk/~vgg/data/bobsl/features/i3d_c2281_16f_m8_-15_4_d0.8_-3_22/5090916219025116054/features.mat.gz\"\n",
        "!gzip -r -d -v \"/content/thor.robots.ox.ac.uk/~vgg/data/bobsl/features/i3d_c2281_16f_m8_-15_4_d0.8_-3_22/5092765202446045704/features.mat.gz\"\n",
        "!gzip -r -d -v \"/content/thor.robots.ox.ac.uk/~vgg/data/bobsl/features/i3d_c2281_16f_m8_-15_4_d0.8_-3_22/5097975856769557081/features.mat.gz\"\n",
        "!gzip -r -d -v \"/content/thor.robots.ox.ac.uk/~vgg/data/bobsl/features/i3d_c2281_16f_m8_-15_4_d0.8_-3_22/5099449889545545450/features.mat.gz\"\n",
        "!gzip -r -d -v \"/content/thor.robots.ox.ac.uk/~vgg/data/bobsl/features/i3d_c2281_16f_m8_-15_4_d0.8_-3_22/5103182645622502287/features.mat.gz\"\n",
        "!gzip -r -d -v \"/content/thor.robots.ox.ac.uk/~vgg/data/bobsl/features/i3d_c2281_16f_m8_-15_4_d0.8_-3_22/5134749367588120522/features.mat.gz\"\n",
        "!gzip -r -d -v \"/content/thor.robots.ox.ac.uk/~vgg/data/bobsl/features/i3d_c2281_16f_m8_-15_4_d0.8_-3_22/5146258161124252727/features.mat.gz\"\n",
        "!gzip -r -d -v \"/content/thor.robots.ox.ac.uk/~vgg/data/bobsl/features/i3d_c2281_16f_m8_-15_4_d0.8_-3_22/5172231547180314349/features.mat.gz\"\n",
        "!gzip -r -d -v \"/content/thor.robots.ox.ac.uk/~vgg/data/bobsl/features/i3d_c2281_16f_m8_-15_4_d0.8_-3_22/5173709444596630576/features.mat.gz\"\n",
        "!gzip -r -d -v \"/content/thor.robots.ox.ac.uk/~vgg/data/bobsl/features/i3d_c2281_16f_m8_-15_4_d0.8_-3_22/5218949624445806415/features.mat.gz\"\n",
        "!gzip -r -d -v \"/content/thor.robots.ox.ac.uk/~vgg/data/bobsl/features/i3d_c2281_16f_m8_-15_4_d0.8_-3_22/5366409594815891602/features.mat.gz\"\n",
        "!gzip -r -d -v \"/content/thor.robots.ox.ac.uk/~vgg/data/bobsl/features/i3d_c2281_16f_m8_-15_4_d0.8_-3_22/5391892065246550398/features.mat.gz\"\n",
        "!gzip -r -d -v \"/content/thor.robots.ox.ac.uk/~vgg/data/bobsl/features/i3d_c2281_16f_m8_-15_4_d0.8_-3_22/5525084584552992937/features.mat.gz\""
      ],
      "metadata": {
        "id": "1OBMvYuhksQE"
      },
      "execution_count": null,
      "outputs": []
    },
    {
      "cell_type": "code",
      "source": [
        "#-------------------------------VAL------------------------------#\n",
        "!gzip -r -d -v \"/content/thor.robots.ox.ac.uk/~vgg/data/bobsl/features/i3d_c2281_16f_m8_-15_4_d0.8_-3_22/5242317681679687839/features.mat.gz\"\n",
        "!gzip -r -d -v \"/content/thor.robots.ox.ac.uk/~vgg/data/bobsl/features/i3d_c2281_16f_m8_-15_4_d0.8_-3_22/5294309549287947552/features.mat.gz\"\n",
        "!gzip -r -d -v \"/content/thor.robots.ox.ac.uk/~vgg/data/bobsl/features/i3d_c2281_16f_m8_-15_4_d0.8_-3_22/5224144816887051284/features.mat.gz\"\n",
        "!gzip -r -d -v \"/content/thor.robots.ox.ac.uk/~vgg/data/bobsl/features/i3d_c2281_16f_m8_-15_4_d0.8_-3_22/5439409006429129628/features.mat.gz\""
      ],
      "metadata": {
        "id": "jCLrL-kukvl2"
      },
      "execution_count": null,
      "outputs": []
    },
    {
      "cell_type": "code",
      "source": [
        "#-------------------------------TEST------------------------------#\n",
        "!gzip -r -d -v \"/content/thor.robots.ox.ac.uk/~vgg/data/bobsl/features/i3d_c2281_16f_m8_-15_4_d0.8_-3_22/5130659699728866130/features.mat.gz\"\n",
        "!gzip -r -d -v \"/content/thor.robots.ox.ac.uk/~vgg/data/bobsl/features/i3d_c2281_16f_m8_-15_4_d0.8_-3_22/5276110913861331583/features.mat.gz\"\n",
        "!gzip -r -d -v \"/content/thor.robots.ox.ac.uk/~vgg/data/bobsl/features/i3d_c2281_16f_m8_-15_4_d0.8_-3_22/5402656112283796519/features.mat.gz\"\n",
        "!gzip -r -d -v \"/content/thor.robots.ox.ac.uk/~vgg/data/bobsl/features/i3d_c2281_16f_m8_-15_4_d0.8_-3_22/5468695099930362251/features.mat.gz\"\n",
        "!gzip -r -d -v \"/content/thor.robots.ox.ac.uk/~vgg/data/bobsl/features/i3d_c2281_16f_m8_-15_4_d0.8_-3_22/5475374633069107138/features.mat.gz\"\n",
        "!gzip -r -d -v \"/content/thor.robots.ox.ac.uk/~vgg/data/bobsl/features/i3d_c2281_16f_m8_-15_4_d0.8_-3_22/5913604319680134251/features.mat.gz\"\n",
        "!gzip -r -d -v \"/content/thor.robots.ox.ac.uk/~vgg/data/bobsl/features/i3d_c2281_16f_m8_-15_4_d0.8_-3_22/5952613360146027617/features.mat.gz\"\n",
        "!gzip -r -d -v \"/content/thor.robots.ox.ac.uk/~vgg/data/bobsl/features/i3d_c2281_16f_m8_-15_4_d0.8_-3_22/6003446875091426252/features.mat.gz\"\n",
        "!gzip -r -d -v \"/content/thor.robots.ox.ac.uk/~vgg/data/bobsl/features/i3d_c2281_16f_m8_-15_4_d0.8_-3_22/6040895553921856506/features.mat.gz\"\n",
        "!gzip -r -d -v \"/content/thor.robots.ox.ac.uk/~vgg/data/bobsl/features/i3d_c2281_16f_m8_-15_4_d0.8_-3_22/6065139785314331208/features.mat.gz\"\n",
        "!gzip -r -d -v \"/content/thor.robots.ox.ac.uk/~vgg/data/bobsl/features/i3d_c2281_16f_m8_-15_4_d0.8_-3_22/6111542182483565918/features.mat.gz\"\n",
        "!gzip -r -d -v \"/content/thor.robots.ox.ac.uk/~vgg/data/bobsl/features/i3d_c2281_16f_m8_-15_4_d0.8_-3_22/6144064963339075095/features.mat.gz\"\n",
        "!gzip -r -d -v \"/content/thor.robots.ox.ac.uk/~vgg/data/bobsl/features/i3d_c2281_16f_m8_-15_4_d0.8_-3_22/6157795114790944374/features.mat.gz\"\n",
        "!gzip -r -d -v \"/content/thor.robots.ox.ac.uk/~vgg/data/bobsl/features/i3d_c2281_16f_m8_-15_4_d0.8_-3_22/6164207930460576679/features.mat.gz\"\n",
        "!gzip -r -d -v \"/content/thor.robots.ox.ac.uk/~vgg/data/bobsl/features/i3d_c2281_16f_m8_-15_4_d0.8_-3_22/6177195911563690266/features.mat.gz\"\n",
        "!gzip -r -d -v \"/content/thor.robots.ox.ac.uk/~vgg/data/bobsl/features/i3d_c2281_16f_m8_-15_4_d0.8_-3_22/6182391104004934170/features.mat.gz\"\n",
        "!gzip -r -d -v \"/content/thor.robots.ox.ac.uk/~vgg/data/bobsl/features/i3d_c2281_16f_m8_-15_4_d0.8_-3_22/6184988700225556709/features.mat.gz\"\n",
        "!gzip -r -d -v \"/content/thor.robots.ox.ac.uk/~vgg/data/bobsl/features/i3d_c2281_16f_m8_-15_4_d0.8_-3_22/6186362230766820709/features.mat.gz\"\n",
        "!gzip -r -d -v \"/content/thor.robots.ox.ac.uk/~vgg/data/bobsl/features/i3d_c2281_16f_m8_-15_4_d0.8_-3_22/6212378136168874626/features.mat.gz\"\n",
        "!gzip -r -d -v \"/content/thor.robots.ox.ac.uk/~vgg/data/bobsl/features/i3d_c2281_16f_m8_-15_4_d0.8_-3_22/6220140001066210692/features.mat.gz\"\n",
        "!gzip -r -d -v \"/content/thor.robots.ox.ac.uk/~vgg/data/bobsl/features/i3d_c2281_16f_m8_-15_4_d0.8_-3_22/6230660523457743887/features.mat.gz\"\n",
        "!gzip -r -d -v \"/content/thor.robots.ox.ac.uk/~vgg/data/bobsl/features/i3d_c2281_16f_m8_-15_4_d0.8_-3_22/6231758317098601501/features.mat.gz\"\n",
        "!gzip -r -d -v \"/content/thor.robots.ox.ac.uk/~vgg/data/bobsl/features/i3d_c2281_16f_m8_-15_4_d0.8_-3_22/6233237503835343920/features.mat.gz\"\n",
        "!gzip -r -d -v \"/content/thor.robots.ox.ac.uk/~vgg/data/bobsl/features/i3d_c2281_16f_m8_-15_4_d0.8_-3_22/6233245234776476721/features.mat.gz\"\n",
        "!gzip -r -d -v \"/content/thor.robots.ox.ac.uk/~vgg/data/bobsl/features/i3d_c2281_16f_m8_-15_4_d0.8_-3_22/6237606774065566357/features.mat.gz\"\n",
        "!gzip -r -d -v \"/content/thor.robots.ox.ac.uk/~vgg/data/bobsl/features/i3d_c2281_16f_m8_-15_4_d0.8_-3_22/6238338636492809272/features.mat.gz\"\n",
        "!gzip -r -d -v \"/content/thor.robots.ox.ac.uk/~vgg/data/bobsl/features/i3d_c2281_16f_m8_-15_4_d0.8_-3_22/6240919482340977071/features.mat.gz\"\n",
        "!gzip -r -d -v \"/content/thor.robots.ox.ac.uk/~vgg/data/bobsl/features/i3d_c2281_16f_m8_-15_4_d0.8_-3_22/6242043045785611181/features.mat.gz\"\n",
        "!gzip -r -d -v \"/content/thor.robots.ox.ac.uk/~vgg/data/bobsl/features/i3d_c2281_16f_m8_-15_4_d0.8_-3_22/6243537694404620461/features.mat.gz\"\n",
        "!gzip -r -d -v \"/content/thor.robots.ox.ac.uk/~vgg/data/bobsl/features/i3d_c2281_16f_m8_-15_4_d0.8_-3_22/6262857316295504035/features.mat.gz\"\n",
        "!gzip -r -d -v \"/content/thor.robots.ox.ac.uk/~vgg/data/bobsl/features/i3d_c2281_16f_m8_-15_4_d0.8_-3_22/6313643157087037540/features.mat.gz\"\n",
        "!gzip -r -d -v \"/content/thor.robots.ox.ac.uk/~vgg/data/bobsl/features/i3d_c2281_16f_m8_-15_4_d0.8_-3_22/6342696033864091923/features.mat.gz\"\n",
        "!gzip -r -d -v \"/content/thor.robots.ox.ac.uk/~vgg/data/bobsl/features/i3d_c2281_16f_m8_-15_4_d0.8_-3_22/6358668158244469679/features.mat.gz\"\n",
        "!gzip -r -d -v \"/content/thor.robots.ox.ac.uk/~vgg/data/bobsl/features/i3d_c2281_16f_m8_-15_4_d0.8_-3_22/6368304776366513150/features.mat.gz\"\n",
        "!gzip -r -d -v \"/content/thor.robots.ox.ac.uk/~vgg/data/bobsl/features/i3d_c2281_16f_m8_-15_4_d0.8_-3_22/6372027224521959778/features.mat.gz\"\n"
      ],
      "metadata": {
        "id": "Kidc7Ld6kzHK"
      },
      "execution_count": null,
      "outputs": []
    },
    {
      "cell_type": "code",
      "source": [
        "tableau = []\n",
        "\n",
        "# ouvrir le fichier en mode lecture\n",
        "with open('/content/subtitle_align-main/data/bobsl_train_1658.txt', 'r') as f:\n",
        "    # lire chaque ligne du fichier\n",
        "    lignes = f.readlines()\n",
        "    \n",
        "    # ajouter chaque ligne du fichier au tableau\n",
        "    for ligne in lignes:\n",
        "        tableau.append(ligne.strip())\n",
        "\n",
        "import random \n",
        "random_elements = random.sample(tableau, 163)\n",
        "print(len(random_elements))"
      ],
      "metadata": {
        "colab": {
          "base_uri": "https://localhost:8080/"
        },
        "id": "nh42ixXVlEVT",
        "outputId": "c4cfb71e-d290-4446-ea46-608a9675588e"
      },
      "execution_count": 9,
      "outputs": [
        {
          "output_type": "stream",
          "name": "stdout",
          "text": [
            "163\n"
          ]
        }
      ]
    },
    {
      "cell_type": "code",
      "source": [
        "for num in random_elements:\n",
        "  print('!gzip -r -d -v \"/content/thor.robots.ox.ac.uk/~vgg/data/bobsl/features/i3d_c2281_16f_m8_-15_4_d0.8_-3_22/' + str(num) + '/features.mat.gz\"')"
      ],
      "metadata": {
        "id": "4UnDSu0XlM-c"
      },
      "execution_count": null,
      "outputs": []
    },
    {
      "cell_type": "code",
      "source": [
        "!gzip -r -d -v \"/content/thor.robots.ox.ac.uk/~vgg/data/bobsl/features/i3d_c2281_16f_m8_-15_4_d0.8_-3_22/6112190293048603673/features.mat.gz\"\n",
        "!gzip -r -d -v \"/content/thor.robots.ox.ac.uk/~vgg/data/bobsl/features/i3d_c2281_16f_m8_-15_4_d0.8_-3_22/5190377354509171770/features.mat.gz\"\n",
        "!gzip -r -d -v \"/content/thor.robots.ox.ac.uk/~vgg/data/bobsl/features/i3d_c2281_16f_m8_-15_4_d0.8_-3_22/5648500041145444502/features.mat.gz\"\n",
        "!gzip -r -d -v \"/content/thor.robots.ox.ac.uk/~vgg/data/bobsl/features/i3d_c2281_16f_m8_-15_4_d0.8_-3_22/5244183415473071843/features.mat.gz\"\n",
        "!gzip -r -d -v \"/content/thor.robots.ox.ac.uk/~vgg/data/bobsl/features/i3d_c2281_16f_m8_-15_4_d0.8_-3_22/5638152175633820087/features.mat.gz\"\n",
        "!gzip -r -d -v \"/content/thor.robots.ox.ac.uk/~vgg/data/bobsl/features/i3d_c2281_16f_m8_-15_4_d0.8_-3_22/6371571099011957375/features.mat.gz\"\n",
        "!gzip -r -d -v \"/content/thor.robots.ox.ac.uk/~vgg/data/bobsl/features/i3d_c2281_16f_m8_-15_4_d0.8_-3_22/5274286412584231578/features.mat.gz\"\n",
        "!gzip -r -d -v \"/content/thor.robots.ox.ac.uk/~vgg/data/bobsl/features/i3d_c2281_16f_m8_-15_4_d0.8_-3_22/5296891683626303285/features.mat.gz\"\n",
        "!gzip -r -d -v \"/content/thor.robots.ox.ac.uk/~vgg/data/bobsl/features/i3d_c2281_16f_m8_-15_4_d0.8_-3_22/5167018315046215545/features.mat.gz\"\n",
        "!gzip -r -d -v \"/content/thor.robots.ox.ac.uk/~vgg/data/bobsl/features/i3d_c2281_16f_m8_-15_4_d0.8_-3_22/5342880475444973168/features.mat.gz\"\n",
        "!gzip -r -d -v \"/content/thor.robots.ox.ac.uk/~vgg/data/bobsl/features/i3d_c2281_16f_m8_-15_4_d0.8_-3_22/6016173292669350691/features.mat.gz\"\n",
        "!gzip -r -d -v \"/content/thor.robots.ox.ac.uk/~vgg/data/bobsl/features/i3d_c2281_16f_m8_-15_4_d0.8_-3_22/6251338214007623011/features.mat.gz\"\n",
        "!gzip -r -d -v \"/content/thor.robots.ox.ac.uk/~vgg/data/bobsl/features/i3d_c2281_16f_m8_-15_4_d0.8_-3_22/6150767689301286778/features.mat.gz\"\n",
        "!gzip -r -d -v \"/content/thor.robots.ox.ac.uk/~vgg/data/bobsl/features/i3d_c2281_16f_m8_-15_4_d0.8_-3_22/6075545632079083725/features.mat.gz\"\n",
        "!gzip -r -d -v \"/content/thor.robots.ox.ac.uk/~vgg/data/bobsl/features/i3d_c2281_16f_m8_-15_4_d0.8_-3_22/5628241109068322467/features.mat.gz\"\n",
        "!gzip -r -d -v \"/content/thor.robots.ox.ac.uk/~vgg/data/bobsl/features/i3d_c2281_16f_m8_-15_4_d0.8_-3_22/5602806312774653652/features.mat.gz\"\n",
        "!gzip -r -d -v \"/content/thor.robots.ox.ac.uk/~vgg/data/bobsl/features/i3d_c2281_16f_m8_-15_4_d0.8_-3_22/5229685323868684758/features.mat.gz\"\n",
        "!gzip -r -d -v \"/content/thor.robots.ox.ac.uk/~vgg/data/bobsl/features/i3d_c2281_16f_m8_-15_4_d0.8_-3_22/5545690119685519412/features.mat.gz\"\n",
        "!gzip -r -d -v \"/content/thor.robots.ox.ac.uk/~vgg/data/bobsl/features/i3d_c2281_16f_m8_-15_4_d0.8_-3_22/5709935253339019898/features.mat.gz\"\n",
        "!gzip -r -d -v \"/content/thor.robots.ox.ac.uk/~vgg/data/bobsl/features/i3d_c2281_16f_m8_-15_4_d0.8_-3_22/6016146234375385889/features.mat.gz\"\n",
        "!gzip -r -d -v \"/content/thor.robots.ox.ac.uk/~vgg/data/bobsl/features/i3d_c2281_16f_m8_-15_4_d0.8_-3_22/5631574433186751442/features.mat.gz\"\n",
        "!gzip -r -d -v \"/content/thor.robots.ox.ac.uk/~vgg/data/bobsl/features/i3d_c2281_16f_m8_-15_4_d0.8_-3_22/5667580003022578977/features.mat.gz\"\n",
        "!gzip -r -d -v \"/content/thor.robots.ox.ac.uk/~vgg/data/bobsl/features/i3d_c2281_16f_m8_-15_4_d0.8_-3_22/6124546913980165885/features.mat.gz\"\n",
        "!gzip -r -d -v \"/content/thor.robots.ox.ac.uk/~vgg/data/bobsl/features/i3d_c2281_16f_m8_-15_4_d0.8_-3_22/5467708116478954014/features.mat.gz\"\n",
        "!gzip -r -d -v \"/content/thor.robots.ox.ac.uk/~vgg/data/bobsl/features/i3d_c2281_16f_m8_-15_4_d0.8_-3_22/5640159643326981835/features.mat.gz\"\n",
        "!gzip -r -d -v \"/content/thor.robots.ox.ac.uk/~vgg/data/bobsl/features/i3d_c2281_16f_m8_-15_4_d0.8_-3_22/6299928467517468064/features.mat.gz\"\n",
        "!gzip -r -d -v \"/content/thor.robots.ox.ac.uk/~vgg/data/bobsl/features/i3d_c2281_16f_m8_-15_4_d0.8_-3_22/6283589123433282713/features.mat.gz\"\n",
        "!gzip -r -d -v \"/content/thor.robots.ox.ac.uk/~vgg/data/bobsl/features/i3d_c2281_16f_m8_-15_4_d0.8_-3_22/5581552667077172045/features.mat.gz\"\n",
        "!gzip -r -d -v \"/content/thor.robots.ox.ac.uk/~vgg/data/bobsl/features/i3d_c2281_16f_m8_-15_4_d0.8_-3_22/5591887646881516523/features.mat.gz\"\n",
        "!gzip -r -d -v \"/content/thor.robots.ox.ac.uk/~vgg/data/bobsl/features/i3d_c2281_16f_m8_-15_4_d0.8_-3_22/5900100942526730342/features.mat.gz\"\n",
        "!gzip -r -d -v \"/content/thor.robots.ox.ac.uk/~vgg/data/bobsl/features/i3d_c2281_16f_m8_-15_4_d0.8_-3_22/5685054506963104654/features.mat.gz\"\n",
        "!gzip -r -d -v \"/content/thor.robots.ox.ac.uk/~vgg/data/bobsl/features/i3d_c2281_16f_m8_-15_4_d0.8_-3_22/6132584515756935693/features.mat.gz\"\n",
        "!gzip -r -d -v \"/content/thor.robots.ox.ac.uk/~vgg/data/bobsl/features/i3d_c2281_16f_m8_-15_4_d0.8_-3_22/6111051267721630253/features.mat.gz\"\n",
        "!gzip -r -d -v \"/content/thor.robots.ox.ac.uk/~vgg/data/bobsl/features/i3d_c2281_16f_m8_-15_4_d0.8_-3_22/5205569941495115427/features.mat.gz\"\n",
        "!gzip -r -d -v \"/content/thor.robots.ox.ac.uk/~vgg/data/bobsl/features/i3d_c2281_16f_m8_-15_4_d0.8_-3_22/6098099364343831883/features.mat.gz\"\n",
        "!gzip -r -d -v \"/content/thor.robots.ox.ac.uk/~vgg/data/bobsl/features/i3d_c2281_16f_m8_-15_4_d0.8_-3_22/6106742556551321260/features.mat.gz\"\n",
        "!gzip -r -d -v \"/content/thor.robots.ox.ac.uk/~vgg/data/bobsl/features/i3d_c2281_16f_m8_-15_4_d0.8_-3_22/5340449094491945604/features.mat.gz\"\n",
        "!gzip -r -d -v \"/content/thor.robots.ox.ac.uk/~vgg/data/bobsl/features/i3d_c2281_16f_m8_-15_4_d0.8_-3_22/6076763255332712049/features.mat.gz\"\n",
        "!gzip -r -d -v \"/content/thor.robots.ox.ac.uk/~vgg/data/bobsl/features/i3d_c2281_16f_m8_-15_4_d0.8_-3_22/5099449889545545450/features.mat.gz\"\n",
        "!gzip -r -d -v \"/content/thor.robots.ox.ac.uk/~vgg/data/bobsl/features/i3d_c2281_16f_m8_-15_4_d0.8_-3_22/5097975856769557081/features.mat.gz\"\n",
        "!gzip -r -d -v \"/content/thor.robots.ox.ac.uk/~vgg/data/bobsl/features/i3d_c2281_16f_m8_-15_4_d0.8_-3_22/5093521546186871869/features.mat.gz\"\n",
        "!gzip -r -d -v \"/content/thor.robots.ox.ac.uk/~vgg/data/bobsl/features/i3d_c2281_16f_m8_-15_4_d0.8_-3_22/5210443011389132089/features.mat.gz\"\n",
        "!gzip -r -d -v \"/content/thor.robots.ox.ac.uk/~vgg/data/bobsl/features/i3d_c2281_16f_m8_-15_4_d0.8_-3_22/6201983885815812975/features.mat.gz\"\n",
        "!gzip -r -d -v \"/content/thor.robots.ox.ac.uk/~vgg/data/bobsl/features/i3d_c2281_16f_m8_-15_4_d0.8_-3_22/5982356867664289477/features.mat.gz\"\n",
        "!gzip -r -d -v \"/content/thor.robots.ox.ac.uk/~vgg/data/bobsl/features/i3d_c2281_16f_m8_-15_4_d0.8_-3_22/5234548085845413413/features.mat.gz\"\n",
        "!gzip -r -d -v \"/content/thor.robots.ox.ac.uk/~vgg/data/bobsl/features/i3d_c2281_16f_m8_-15_4_d0.8_-3_22/5578955070856550275/features.mat.gz\"\n",
        "!gzip -r -d -v \"/content/thor.robots.ox.ac.uk/~vgg/data/bobsl/features/i3d_c2281_16f_m8_-15_4_d0.8_-3_22/6128715179745148174/features.mat.gz\"\n",
        "!gzip -r -d -v \"/content/thor.robots.ox.ac.uk/~vgg/data/bobsl/features/i3d_c2281_16f_m8_-15_4_d0.8_-3_22/5265004128438065902/features.mat.gz\"\n",
        "!gzip -r -d -v \"/content/thor.robots.ox.ac.uk/~vgg/data/bobsl/features/i3d_c2281_16f_m8_-15_4_d0.8_-3_22/6291372892663829753/features.mat.gz\"\n",
        "!gzip -r -d -v \"/content/thor.robots.ox.ac.uk/~vgg/data/bobsl/features/i3d_c2281_16f_m8_-15_4_d0.8_-3_22/5594641150448226995/features.mat.gz\"\n",
        "!gzip -r -d -v \"/content/thor.robots.ox.ac.uk/~vgg/data/bobsl/features/i3d_c2281_16f_m8_-15_4_d0.8_-3_22/5293216909607844860/features.mat.gz\"\n",
        "!gzip -r -d -v \"/content/thor.robots.ox.ac.uk/~vgg/data/bobsl/features/i3d_c2281_16f_m8_-15_4_d0.8_-3_22/5463145573517413899/features.mat.gz\"\n",
        "!gzip -r -d -v \"/content/thor.robots.ox.ac.uk/~vgg/data/bobsl/features/i3d_c2281_16f_m8_-15_4_d0.8_-3_22/5192974950729794897/features.mat.gz\"\n",
        "!gzip -r -d -v \"/content/thor.robots.ox.ac.uk/~vgg/data/bobsl/features/i3d_c2281_16f_m8_-15_4_d0.8_-3_22/6254792656224844377/features.mat.gz\"\n",
        "!gzip -r -d -v \"/content/thor.robots.ox.ac.uk/~vgg/data/bobsl/features/i3d_c2281_16f_m8_-15_4_d0.8_-3_22/5890234973125867629/features.mat.gz\"\n",
        "!gzip -r -d -v \"/content/thor.robots.ox.ac.uk/~vgg/data/bobsl/features/i3d_c2281_16f_m8_-15_4_d0.8_-3_22/6069479420270209995/features.mat.gz\"\n",
        "!gzip -r -d -v \"/content/thor.robots.ox.ac.uk/~vgg/data/bobsl/features/i3d_c2281_16f_m8_-15_4_d0.8_-3_22/5217478167819985703/features.mat.gz\"\n",
        "!gzip -r -d -v \"/content/thor.robots.ox.ac.uk/~vgg/data/bobsl/features/i3d_c2281_16f_m8_-15_4_d0.8_-3_22/5190756169794471979/features.mat.gz\"\n",
        "!gzip -r -d -v \"/content/thor.robots.ox.ac.uk/~vgg/data/bobsl/features/i3d_c2281_16f_m8_-15_4_d0.8_-3_22/5582290971955355949/features.mat.gz\"\n",
        "!gzip -r -d -v \"/content/thor.robots.ox.ac.uk/~vgg/data/bobsl/features/i3d_c2281_16f_m8_-15_4_d0.8_-3_22/5795045183468925758/features.mat.gz\"\n",
        "!gzip -r -d -v \"/content/thor.robots.ox.ac.uk/~vgg/data/bobsl/features/i3d_c2281_16f_m8_-15_4_d0.8_-3_22/5480920294841708426/features.mat.gz\"\n",
        "!gzip -r -d -v \"/content/thor.robots.ox.ac.uk/~vgg/data/bobsl/features/i3d_c2281_16f_m8_-15_4_d0.8_-3_22/5678387858726246146/features.mat.gz\"\n",
        "!gzip -r -d -v \"/content/thor.robots.ox.ac.uk/~vgg/data/bobsl/features/i3d_c2281_16f_m8_-15_4_d0.8_-3_22/6316235599346905744/features.mat.gz\"\n",
        "!gzip -r -d -v \"/content/thor.robots.ox.ac.uk/~vgg/data/bobsl/features/i3d_c2281_16f_m8_-15_4_d0.8_-3_22/5400059804553364075/features.mat.gz\"\n",
        "!gzip -r -d -v \"/content/thor.robots.ox.ac.uk/~vgg/data/bobsl/features/i3d_c2281_16f_m8_-15_4_d0.8_-3_22/6025311265088338676/features.mat.gz\"\n",
        "!gzip -r -d -v \"/content/thor.robots.ox.ac.uk/~vgg/data/bobsl/features/i3d_c2281_16f_m8_-15_4_d0.8_-3_22/6231392385884982295/features.mat.gz\"\n",
        "!gzip -r -d -v \"/content/thor.robots.ox.ac.uk/~vgg/data/bobsl/features/i3d_c2281_16f_m8_-15_4_d0.8_-3_22/6022837363925840486/features.mat.gz\"\n",
        "!gzip -r -d -v \"/content/thor.robots.ox.ac.uk/~vgg/data/bobsl/features/i3d_c2281_16f_m8_-15_4_d0.8_-3_22/6254687000025154999/features.mat.gz\"\n",
        "!gzip -r -d -v \"/content/thor.robots.ox.ac.uk/~vgg/data/bobsl/features/i3d_c2281_16f_m8_-15_4_d0.8_-3_22/5702127001964691977/features.mat.gz\"\n",
        "!gzip -r -d -v \"/content/thor.robots.ox.ac.uk/~vgg/data/bobsl/features/i3d_c2281_16f_m8_-15_4_d0.8_-3_22/5257559232122982230/features.mat.gz\"\n",
        "!gzip -r -d -v \"/content/thor.robots.ox.ac.uk/~vgg/data/bobsl/features/i3d_c2281_16f_m8_-15_4_d0.8_-3_22/5407855170195608233/features.mat.gz\"\n",
        "!gzip -r -d -v \"/content/thor.robots.ox.ac.uk/~vgg/data/bobsl/features/i3d_c2281_16f_m8_-15_4_d0.8_-3_22/6082968624056740864/features.mat.gz\"\n",
        "!gzip -r -d -v \"/content/thor.robots.ox.ac.uk/~vgg/data/bobsl/features/i3d_c2281_16f_m8_-15_4_d0.8_-3_22/6374547511348085854/features.mat.gz\"\n",
        "!gzip -r -d -v \"/content/thor.robots.ox.ac.uk/~vgg/data/bobsl/features/i3d_c2281_16f_m8_-15_4_d0.8_-3_22/5212294571790439134/features.mat.gz\"\n",
        "!gzip -r -d -v \"/content/thor.robots.ox.ac.uk/~vgg/data/bobsl/features/i3d_c2281_16f_m8_-15_4_d0.8_-3_22/5473499879844400665/features.mat.gz\"\n",
        "!gzip -r -d -v \"/content/thor.robots.ox.ac.uk/~vgg/data/bobsl/features/i3d_c2281_16f_m8_-15_4_d0.8_-3_22/6181186365678406085/features.mat.gz\"\n",
        "!gzip -r -d -v \"/content/thor.robots.ox.ac.uk/~vgg/data/bobsl/features/i3d_c2281_16f_m8_-15_4_d0.8_-3_22/6285077329601348734/features.mat.gz\"\n",
        "!gzip -r -d -v \"/content/thor.robots.ox.ac.uk/~vgg/data/bobsl/features/i3d_c2281_16f_m8_-15_4_d0.8_-3_22/5270946645184619506/features.mat.gz\"\n",
        "!gzip -r -d -v \"/content/thor.robots.ox.ac.uk/~vgg/data/bobsl/features/i3d_c2281_16f_m8_-15_4_d0.8_-3_22/5537369050013022027/features.mat.gz\"\n",
        "!gzip -r -d -v \"/content/thor.robots.ox.ac.uk/~vgg/data/bobsl/features/i3d_c2281_16f_m8_-15_4_d0.8_-3_22/5699503635940288750/features.mat.gz\"\n",
        "!gzip -r -d -v \"/content/thor.robots.ox.ac.uk/~vgg/data/bobsl/features/i3d_c2281_16f_m8_-15_4_d0.8_-3_22/6225180574710020100/features.mat.gz\"\n",
        "!gzip -r -d -v \"/content/thor.robots.ox.ac.uk/~vgg/data/bobsl/features/i3d_c2281_16f_m8_-15_4_d0.8_-3_22/5217831214131716924/features.mat.gz\"\n",
        "!gzip -r -d -v \"/content/thor.robots.ox.ac.uk/~vgg/data/bobsl/features/i3d_c2281_16f_m8_-15_4_d0.8_-3_22/5845015409949977472/features.mat.gz\"\n",
        "!gzip -r -d -v \"/content/thor.robots.ox.ac.uk/~vgg/data/bobsl/features/i3d_c2281_16f_m8_-15_4_d0.8_-3_22/5270584579441566776/features.mat.gz\"\n",
        "!gzip -r -d -v \"/content/thor.robots.ox.ac.uk/~vgg/data/bobsl/features/i3d_c2281_16f_m8_-15_4_d0.8_-3_22/6033957034255161924/features.mat.gz\"\n",
        "!gzip -r -d -v \"/content/thor.robots.ox.ac.uk/~vgg/data/bobsl/features/i3d_c2281_16f_m8_-15_4_d0.8_-3_22/6781430808642077845/features.mat.gz\"\n",
        "!gzip -r -d -v \"/content/thor.robots.ox.ac.uk/~vgg/data/bobsl/features/i3d_c2281_16f_m8_-15_4_d0.8_-3_22/5390007004100335865/features.mat.gz\"\n",
        "!gzip -r -d -v \"/content/thor.robots.ox.ac.uk/~vgg/data/bobsl/features/i3d_c2281_16f_m8_-15_4_d0.8_-3_22/6239207078901113685/features.mat.gz\"\n",
        "!gzip -r -d -v \"/content/thor.robots.ox.ac.uk/~vgg/data/bobsl/features/i3d_c2281_16f_m8_-15_4_d0.8_-3_22/5919293003863662019/features.mat.gz\"\n",
        "!gzip -r -d -v \"/content/thor.robots.ox.ac.uk/~vgg/data/bobsl/features/i3d_c2281_16f_m8_-15_4_d0.8_-3_22/5929202781905733028/features.mat.gz\"\n",
        "!gzip -r -d -v \"/content/thor.robots.ox.ac.uk/~vgg/data/bobsl/features/i3d_c2281_16f_m8_-15_4_d0.8_-3_22/5352924257296889187/features.mat.gz\"\n",
        "!gzip -r -d -v \"/content/thor.robots.ox.ac.uk/~vgg/data/bobsl/features/i3d_c2281_16f_m8_-15_4_d0.8_-3_22/5540866012418651562/features.mat.gz\"\n",
        "!gzip -r -d -v \"/content/thor.robots.ox.ac.uk/~vgg/data/bobsl/features/i3d_c2281_16f_m8_-15_4_d0.8_-3_22/5638305505945298544/features.mat.gz\"\n",
        "!gzip -r -d -v \"/content/thor.robots.ox.ac.uk/~vgg/data/bobsl/features/i3d_c2281_16f_m8_-15_4_d0.8_-3_22/5349185057938775125/features.mat.gz\"\n",
        "!gzip -r -d -v \"/content/thor.robots.ox.ac.uk/~vgg/data/bobsl/features/i3d_c2281_16f_m8_-15_4_d0.8_-3_22/5678029658453757894/features.mat.gz\"\n",
        "!gzip -r -d -v \"/content/thor.robots.ox.ac.uk/~vgg/data/bobsl/features/i3d_c2281_16f_m8_-15_4_d0.8_-3_22/5465481605432707433/features.mat.gz\"\n",
        "!gzip -r -d -v \"/content/thor.robots.ox.ac.uk/~vgg/data/bobsl/features/i3d_c2281_16f_m8_-15_4_d0.8_-3_22/6145321241294197042/features.mat.gz\"\n",
        "!gzip -r -d -v \"/content/thor.robots.ox.ac.uk/~vgg/data/bobsl/features/i3d_c2281_16f_m8_-15_4_d0.8_-3_22/6308462138037868281/features.mat.gz\"\n",
        "!gzip -r -d -v \"/content/thor.robots.ox.ac.uk/~vgg/data/bobsl/features/i3d_c2281_16f_m8_-15_4_d0.8_-3_22/6278031865248983915/features.mat.gz\"\n",
        "!gzip -r -d -v \"/content/thor.robots.ox.ac.uk/~vgg/data/bobsl/features/i3d_c2281_16f_m8_-15_4_d0.8_-3_22/6195015730874806994/features.mat.gz\"\n",
        "!gzip -r -d -v \"/content/thor.robots.ox.ac.uk/~vgg/data/bobsl/features/i3d_c2281_16f_m8_-15_4_d0.8_-3_22/6179327074335968845/features.mat.gz\"\n",
        "!gzip -r -d -v \"/content/thor.robots.ox.ac.uk/~vgg/data/bobsl/features/i3d_c2281_16f_m8_-15_4_d0.8_-3_22/6009755323039007544/features.mat.gz\"\n",
        "!gzip -r -d -v \"/content/thor.robots.ox.ac.uk/~vgg/data/bobsl/features/i3d_c2281_16f_m8_-15_4_d0.8_-3_22/5625642224357510420/features.mat.gz\"\n",
        "!gzip -r -d -v \"/content/thor.robots.ox.ac.uk/~vgg/data/bobsl/features/i3d_c2281_16f_m8_-15_4_d0.8_-3_22/6782915149339575491/features.mat.gz\"\n",
        "!gzip -r -d -v \"/content/thor.robots.ox.ac.uk/~vgg/data/bobsl/features/i3d_c2281_16f_m8_-15_4_d0.8_-3_22/6036581688769750274/features.mat.gz\"\n",
        "!gzip -r -d -v \"/content/thor.robots.ox.ac.uk/~vgg/data/bobsl/features/i3d_c2281_16f_m8_-15_4_d0.8_-3_22/5289113068356515636/features.mat.gz\"\n",
        "!gzip -r -d -v \"/content/thor.robots.ox.ac.uk/~vgg/data/bobsl/features/i3d_c2281_16f_m8_-15_4_d0.8_-3_22/6129252480128642705/features.mat.gz\"\n",
        "!gzip -r -d -v \"/content/thor.robots.ox.ac.uk/~vgg/data/bobsl/features/i3d_c2281_16f_m8_-15_4_d0.8_-3_22/5390381954745276678/features.mat.gz\"\n",
        "!gzip -r -d -v \"/content/thor.robots.ox.ac.uk/~vgg/data/bobsl/features/i3d_c2281_16f_m8_-15_4_d0.8_-3_22/5289484153530890225/features.mat.gz\"\n",
        "!gzip -r -d -v \"/content/thor.robots.ox.ac.uk/~vgg/data/bobsl/features/i3d_c2281_16f_m8_-15_4_d0.8_-3_22/5416031928933739195/features.mat.gz\"\n",
        "!gzip -r -d -v \"/content/thor.robots.ox.ac.uk/~vgg/data/bobsl/features/i3d_c2281_16f_m8_-15_4_d0.8_-3_22/5724406285831489282/features.mat.gz\"\n",
        "!gzip -r -d -v \"/content/thor.robots.ox.ac.uk/~vgg/data/bobsl/features/i3d_c2281_16f_m8_-15_4_d0.8_-3_22/6125660169503289286/features.mat.gz\"\n",
        "!gzip -r -d -v \"/content/thor.robots.ox.ac.uk/~vgg/data/bobsl/features/i3d_c2281_16f_m8_-15_4_d0.8_-3_22/6054764862314114588/features.mat.gz\"\n",
        "!gzip -r -d -v \"/content/thor.robots.ox.ac.uk/~vgg/data/bobsl/features/i3d_c2281_16f_m8_-15_4_d0.8_-3_22/5957901323880871061/features.mat.gz\"\n",
        "!gzip -r -d -v \"/content/thor.robots.ox.ac.uk/~vgg/data/bobsl/features/i3d_c2281_16f_m8_-15_4_d0.8_-3_22/5926591012293029952/features.mat.gz\"\n",
        "!gzip -r -d -v \"/content/thor.robots.ox.ac.uk/~vgg/data/bobsl/features/i3d_c2281_16f_m8_-15_4_d0.8_-3_22/6025455576010497850/features.mat.gz\"\n",
        "!gzip -r -d -v \"/content/thor.robots.ox.ac.uk/~vgg/data/bobsl/features/i3d_c2281_16f_m8_-15_4_d0.8_-3_22/6120922391083282934/features.mat.gz\"\n",
        "!gzip -r -d -v \"/content/thor.robots.ox.ac.uk/~vgg/data/bobsl/features/i3d_c2281_16f_m8_-15_4_d0.8_-3_22/5158609628107326661/features.mat.gz\"\n",
        "!gzip -r -d -v \"/content/thor.robots.ox.ac.uk/~vgg/data/bobsl/features/i3d_c2281_16f_m8_-15_4_d0.8_-3_22/5630821954916492380/features.mat.gz\"\n",
        "!gzip -r -d -v \"/content/thor.robots.ox.ac.uk/~vgg/data/bobsl/features/i3d_c2281_16f_m8_-15_4_d0.8_-3_22/5759659377392935230/features.mat.gz\"\n",
        "!gzip -r -d -v \"/content/thor.robots.ox.ac.uk/~vgg/data/bobsl/features/i3d_c2281_16f_m8_-15_4_d0.8_-3_22/5556866483583172215/features.mat.gz\"\n",
        "!gzip -r -d -v \"/content/thor.robots.ox.ac.uk/~vgg/data/bobsl/features/i3d_c2281_16f_m8_-15_4_d0.8_-3_22/6243635619658969267/features.mat.gz\"\n",
        "!gzip -r -d -v \"/content/thor.robots.ox.ac.uk/~vgg/data/bobsl/features/i3d_c2281_16f_m8_-15_4_d0.8_-3_22/6277449467704682741/features.mat.gz\"\n",
        "!gzip -r -d -v \"/content/thor.robots.ox.ac.uk/~vgg/data/bobsl/features/i3d_c2281_16f_m8_-15_4_d0.8_-3_22/5265751452743375920/features.mat.gz\"\n",
        "!gzip -r -d -v \"/content/thor.robots.ox.ac.uk/~vgg/data/bobsl/features/i3d_c2281_16f_m8_-15_4_d0.8_-3_22/5392979550965897709/features.mat.gz\"\n",
        "!gzip -r -d -v \"/content/thor.robots.ox.ac.uk/~vgg/data/bobsl/features/i3d_c2281_16f_m8_-15_4_d0.8_-3_22/6385655585248876901/features.mat.gz\"\n",
        "!gzip -r -d -v \"/content/thor.robots.ox.ac.uk/~vgg/data/bobsl/features/i3d_c2281_16f_m8_-15_4_d0.8_-3_22/5896945430029194033/features.mat.gz\"\n",
        "!gzip -r -d -v \"/content/thor.robots.ox.ac.uk/~vgg/data/bobsl/features/i3d_c2281_16f_m8_-15_4_d0.8_-3_22/6070722813302401768/features.mat.gz\"\n",
        "!gzip -r -d -v \"/content/thor.robots.ox.ac.uk/~vgg/data/bobsl/features/i3d_c2281_16f_m8_-15_4_d0.8_-3_22/5174465788337456749/features.mat.gz\"\n",
        "!gzip -r -d -v \"/content/thor.robots.ox.ac.uk/~vgg/data/bobsl/features/i3d_c2281_16f_m8_-15_4_d0.8_-3_22/5215231040930716860/features.mat.gz\"\n",
        "!gzip -r -d -v \"/content/thor.robots.ox.ac.uk/~vgg/data/bobsl/features/i3d_c2281_16f_m8_-15_4_d0.8_-3_22/5571538521342054326/features.mat.gz\"\n",
        "!gzip -r -d -v \"/content/thor.robots.ox.ac.uk/~vgg/data/bobsl/features/i3d_c2281_16f_m8_-15_4_d0.8_-3_22/5358098833064900032/features.mat.gz\"\n",
        "!gzip -r -d -v \"/content/thor.robots.ox.ac.uk/~vgg/data/bobsl/features/i3d_c2281_16f_m8_-15_4_d0.8_-3_22/6121444229584504621/features.mat.gz\"\n",
        "!gzip -r -d -v \"/content/thor.robots.ox.ac.uk/~vgg/data/bobsl/features/i3d_c2281_16f_m8_-15_4_d0.8_-3_22/6042124773561972401/features.mat.gz\"\n",
        "!gzip -r -d -v \"/content/thor.robots.ox.ac.uk/~vgg/data/bobsl/features/i3d_c2281_16f_m8_-15_4_d0.8_-3_22/5997990119125017776/features.mat.gz\"\n",
        "!gzip -r -d -v \"/content/thor.robots.ox.ac.uk/~vgg/data/bobsl/features/i3d_c2281_16f_m8_-15_4_d0.8_-3_22/5320261030180602178/features.mat.gz\"\n",
        "!gzip -r -d -v \"/content/thor.robots.ox.ac.uk/~vgg/data/bobsl/features/i3d_c2281_16f_m8_-15_4_d0.8_-3_22/5270924740851409904/features.mat.gz\"\n",
        "!gzip -r -d -v \"/content/thor.robots.ox.ac.uk/~vgg/data/bobsl/features/i3d_c2281_16f_m8_-15_4_d0.8_-3_22/5265750165083430975/features.mat.gz\"\n",
        "!gzip -r -d -v \"/content/thor.robots.ox.ac.uk/~vgg/data/bobsl/features/i3d_c2281_16f_m8_-15_4_d0.8_-3_22/5495784318489908999/features.mat.gz\"\n",
        "!gzip -r -d -v \"/content/thor.robots.ox.ac.uk/~vgg/data/bobsl/features/i3d_c2281_16f_m8_-15_4_d0.8_-3_22/5898026473297527707/features.mat.gz\"\n",
        "!gzip -r -d -v \"/content/thor.robots.ox.ac.uk/~vgg/data/bobsl/features/i3d_c2281_16f_m8_-15_4_d0.8_-3_22/6168200961555670123/features.mat.gz\"\n",
        "!gzip -r -d -v \"/content/thor.robots.ox.ac.uk/~vgg/data/bobsl/features/i3d_c2281_16f_m8_-15_4_d0.8_-3_22/5634963162395551136/features.mat.gz\"\n",
        "!gzip -r -d -v \"/content/thor.robots.ox.ac.uk/~vgg/data/bobsl/features/i3d_c2281_16f_m8_-15_4_d0.8_-3_22/6023593707666665811/features.mat.gz\"\n",
        "!gzip -r -d -v \"/content/thor.robots.ox.ac.uk/~vgg/data/bobsl/features/i3d_c2281_16f_m8_-15_4_d0.8_-3_22/5960416456729465325/features.mat.gz\"\n",
        "!gzip -r -d -v \"/content/thor.robots.ox.ac.uk/~vgg/data/bobsl/features/i3d_c2281_16f_m8_-15_4_d0.8_-3_22/5921400973812538995/features.mat.gz\"\n",
        "!gzip -r -d -v \"/content/thor.robots.ox.ac.uk/~vgg/data/bobsl/features/i3d_c2281_16f_m8_-15_4_d0.8_-3_22/5611575776966397847/features.mat.gz\"\n",
        "!gzip -r -d -v \"/content/thor.robots.ox.ac.uk/~vgg/data/bobsl/features/i3d_c2281_16f_m8_-15_4_d0.8_-3_22/5981534810923832438/features.mat.gz\"\n",
        "!gzip -r -d -v \"/content/thor.robots.ox.ac.uk/~vgg/data/bobsl/features/i3d_c2281_16f_m8_-15_4_d0.8_-3_22/5234153807847640340/features.mat.gz\"\n",
        "!gzip -r -d -v \"/content/thor.robots.ox.ac.uk/~vgg/data/bobsl/features/i3d_c2281_16f_m8_-15_4_d0.8_-3_22/5463130111635148238/features.mat.gz\"\n",
        "!gzip -r -d -v \"/content/thor.robots.ox.ac.uk/~vgg/data/bobsl/features/i3d_c2281_16f_m8_-15_4_d0.8_-3_22/5251992954507363500/features.mat.gz\"\n",
        "!gzip -r -d -v \"/content/thor.robots.ox.ac.uk/~vgg/data/bobsl/features/i3d_c2281_16f_m8_-15_4_d0.8_-3_22/5587444932710561032/features.mat.gz\"\n",
        "!gzip -r -d -v \"/content/thor.robots.ox.ac.uk/~vgg/data/bobsl/features/i3d_c2281_16f_m8_-15_4_d0.8_-3_22/6241062504772985571/features.mat.gz\"\n",
        "!gzip -r -d -v \"/content/thor.robots.ox.ac.uk/~vgg/data/bobsl/features/i3d_c2281_16f_m8_-15_4_d0.8_-3_22/5376629898960234260/features.mat.gz\"\n",
        "!gzip -r -d -v \"/content/thor.robots.ox.ac.uk/~vgg/data/bobsl/features/i3d_c2281_16f_m8_-15_4_d0.8_-3_22/5571863220857386728/features.mat.gz\"\n",
        "!gzip -r -d -v \"/content/thor.robots.ox.ac.uk/~vgg/data/bobsl/features/i3d_c2281_16f_m8_-15_4_d0.8_-3_22/5557617674168610983/features.mat.gz\"\n",
        "!gzip -r -d -v \"/content/thor.robots.ox.ac.uk/~vgg/data/bobsl/features/i3d_c2281_16f_m8_-15_4_d0.8_-3_22/5549273410879618986/features.mat.gz\"\n",
        "!gzip -r -d -v \"/content/thor.robots.ox.ac.uk/~vgg/data/bobsl/features/i3d_c2281_16f_m8_-15_4_d0.8_-3_22/6274851871484060612/features.mat.gz\"\n",
        "!gzip -r -d -v \"/content/thor.robots.ox.ac.uk/~vgg/data/bobsl/features/i3d_c2281_16f_m8_-15_4_d0.8_-3_22/5472895577979063655/features.mat.gz\"\n",
        "!gzip -r -d -v \"/content/thor.robots.ox.ac.uk/~vgg/data/bobsl/features/i3d_c2281_16f_m8_-15_4_d0.8_-3_22/5186304436192161269/features.mat.gz\"\n",
        "!gzip -r -d -v \"/content/thor.robots.ox.ac.uk/~vgg/data/bobsl/features/i3d_c2281_16f_m8_-15_4_d0.8_-3_22/5778397890233796986/features.mat.gz\"\n",
        "!gzip -r -d -v \"/content/thor.robots.ox.ac.uk/~vgg/data/bobsl/features/i3d_c2281_16f_m8_-15_4_d0.8_-3_22/5960051814005981942/features.mat.gz\"\n",
        "!gzip -r -d -v \"/content/thor.robots.ox.ac.uk/~vgg/data/bobsl/features/i3d_c2281_16f_m8_-15_4_d0.8_-3_22/5397829428036548943/features.mat.gz\"\n",
        "!gzip -r -d -v \"/content/thor.robots.ox.ac.uk/~vgg/data/bobsl/features/i3d_c2281_16f_m8_-15_4_d0.8_-3_22/5786188101915285054/features.mat.gz\""
      ],
      "metadata": {
        "id": "fRPMbi44X33I"
      },
      "execution_count": null,
      "outputs": []
    },
    {
      "cell_type": "code",
      "source": [
        "with open('/content/subtitle_align-main/data/bobsl_train_163.txt', 'w') as f:\n",
        "    for element in random_elements:\n",
        "        f.write(str(element) + '\\n')"
      ],
      "metadata": {
        "id": "6g1YZrKHYFJt"
      },
      "execution_count": 12,
      "outputs": []
    },
    {
      "cell_type": "code",
      "source": [],
      "metadata": {
        "id": "q1tWqADXiKLs"
      },
      "execution_count": null,
      "outputs": []
    },
    {
      "cell_type": "code",
      "source": [
        "tableau = []\n",
        "\n",
        "# ouvrir le fichier en mode lecture\n",
        "with open('/content/subtitle_align-main/data/bobsl_test_250.txt', 'r') as f:\n",
        "    # lire chaque ligne du fichier\n",
        "    lignes = f.readlines()\n",
        "    \n",
        "    # ajouter chaque ligne du fichier au tableau\n",
        "    for ligne in lignes:\n",
        "        tableau.append(ligne.strip())\n",
        "\n",
        "import random \n",
        "random_elements = random.sample(tableau, 25)\n",
        "print(len(random_elements))\n",
        "\n",
        "for num in random_elements:\n",
        "  print('!gzip -r -d -v \"/content/thor.robots.ox.ac.uk/~vgg/data/bobsl/features/i3d_c2281_16f_m8_-15_4_d0.8_-3_22/' + str(num) + '/features.mat.gz\"')"
      ],
      "metadata": {
        "id": "GSwqrvt5mPay"
      },
      "execution_count": null,
      "outputs": []
    },
    {
      "cell_type": "code",
      "source": [
        "!gzip -r -d -v \"/content/thor.robots.ox.ac.uk/~vgg/data/bobsl/features/i3d_c2281_16f_m8_-15_4_d0.8_-3_22/6144064963339075095/features.mat.gz\"\n",
        "!gzip -r -d -v \"/content/thor.robots.ox.ac.uk/~vgg/data/bobsl/features/i3d_c2281_16f_m8_-15_4_d0.8_-3_22/6161239249065577328/features.mat.gz\"\n",
        "!gzip -r -d -v \"/content/thor.robots.ox.ac.uk/~vgg/data/bobsl/features/i3d_c2281_16f_m8_-15_4_d0.8_-3_22/6355229177930560444/features.mat.gz\"\n",
        "!gzip -r -d -v \"/content/thor.robots.ox.ac.uk/~vgg/data/bobsl/features/i3d_c2281_16f_m8_-15_4_d0.8_-3_22/6292970620497943877/features.mat.gz\"\n",
        "!gzip -r -d -v \"/content/thor.robots.ox.ac.uk/~vgg/data/bobsl/features/i3d_c2281_16f_m8_-15_4_d0.8_-3_22/6121459691466770222/features.mat.gz\"\n",
        "!gzip -r -d -v \"/content/thor.robots.ox.ac.uk/~vgg/data/bobsl/features/i3d_c2281_16f_m8_-15_4_d0.8_-3_22/6078143228299678284/features.mat.gz\"\n",
        "!gzip -r -d -v \"/content/thor.robots.ox.ac.uk/~vgg/data/bobsl/features/i3d_c2281_16f_m8_-15_4_d0.8_-3_22/6369410300948503691/features.mat.gz\"\n",
        "!gzip -r -d -v \"/content/thor.robots.ox.ac.uk/~vgg/data/bobsl/features/i3d_c2281_16f_m8_-15_4_d0.8_-3_22/6270608873271300675/features.mat.gz\"\n",
        "!gzip -r -d -v \"/content/thor.robots.ox.ac.uk/~vgg/data/bobsl/features/i3d_c2281_16f_m8_-15_4_d0.8_-3_22/6231758317098601501/features.mat.gz\"\n",
        "!gzip -r -d -v \"/content/thor.robots.ox.ac.uk/~vgg/data/bobsl/features/i3d_c2281_16f_m8_-15_4_d0.8_-3_22/5423452343931016345/features.mat.gz\"\n",
        "!gzip -r -d -v \"/content/thor.robots.ox.ac.uk/~vgg/data/bobsl/features/i3d_c2281_16f_m8_-15_4_d0.8_-3_22/5763321266501368090/features.mat.gz\"\n",
        "!gzip -r -d -v \"/content/thor.robots.ox.ac.uk/~vgg/data/bobsl/features/i3d_c2281_16f_m8_-15_4_d0.8_-3_22/5387174902698595688/features.mat.gz\"\n",
        "!gzip -r -d -v \"/content/thor.robots.ox.ac.uk/~vgg/data/bobsl/features/i3d_c2281_16f_m8_-15_4_d0.8_-3_22/6300666772395651934/features.mat.gz\"\n",
        "!gzip -r -d -v \"/content/thor.robots.ox.ac.uk/~vgg/data/bobsl/features/i3d_c2281_16f_m8_-15_4_d0.8_-3_22/6290831726805567202/features.mat.gz\"\n",
        "!gzip -r -d -v \"/content/thor.robots.ox.ac.uk/~vgg/data/bobsl/features/i3d_c2281_16f_m8_-15_4_d0.8_-3_22/6103295845275265043/features.mat.gz\"\n",
        "!gzip -r -d -v \"/content/thor.robots.ox.ac.uk/~vgg/data/bobsl/features/i3d_c2281_16f_m8_-15_4_d0.8_-3_22/6146434496817320323/features.mat.gz\"\n",
        "!gzip -r -d -v \"/content/thor.robots.ox.ac.uk/~vgg/data/bobsl/features/i3d_c2281_16f_m8_-15_4_d0.8_-3_22/5468695099930362251/features.mat.gz\"\n",
        "!gzip -r -d -v \"/content/thor.robots.ox.ac.uk/~vgg/data/bobsl/features/i3d_c2281_16f_m8_-15_4_d0.8_-3_22/6241038023438347036/features.mat.gz\"\n",
        "!gzip -r -d -v \"/content/thor.robots.ox.ac.uk/~vgg/data/bobsl/features/i3d_c2281_16f_m8_-15_4_d0.8_-3_22/6243898471657485751/features.mat.gz\"\n",
        "!gzip -r -d -v \"/content/thor.robots.ox.ac.uk/~vgg/data/bobsl/features/i3d_c2281_16f_m8_-15_4_d0.8_-3_22/6040895553921856506/features.mat.gz\"\n",
        "!gzip -r -d -v \"/content/thor.robots.ox.ac.uk/~vgg/data/bobsl/features/i3d_c2281_16f_m8_-15_4_d0.8_-3_22/5862063423654786251/features.mat.gz\"\n",
        "!gzip -r -d -v \"/content/thor.robots.ox.ac.uk/~vgg/data/bobsl/features/i3d_c2281_16f_m8_-15_4_d0.8_-3_22/6003446875091426252/features.mat.gz\"\n",
        "!gzip -r -d -v \"/content/thor.robots.ox.ac.uk/~vgg/data/bobsl/features/i3d_c2281_16f_m8_-15_4_d0.8_-3_22/6161128438909340496/features.mat.gz\"\n",
        "!gzip -r -d -v \"/content/thor.robots.ox.ac.uk/~vgg/data/bobsl/features/i3d_c2281_16f_m8_-15_4_d0.8_-3_22/6111065441113707054/features.mat.gz\"\n",
        "!gzip -r -d -v \"/content/thor.robots.ox.ac.uk/~vgg/data/bobsl/features/i3d_c2281_16f_m8_-15_4_d0.8_-3_22/6303260503145708791/features.mat.gz\""
      ],
      "metadata": {
        "id": "URCOZFr1iZNN"
      },
      "execution_count": null,
      "outputs": []
    },
    {
      "cell_type": "code",
      "source": [
        "with open('/content/subtitle_align-main/data/bobsl_test_25.txt', 'w') as f:\n",
        "    for element in random_elements:\n",
        "        f.write(str(element) + '\\n')"
      ],
      "metadata": {
        "id": "Wz33w1ism3Fz"
      },
      "execution_count": 15,
      "outputs": []
    },
    {
      "cell_type": "code",
      "source": [
        "tableau = []\n",
        "\n",
        "# ouvrir le fichier en mode lecture\n",
        "with open('/content/subtitle_align-main/data/bobsl_val_32.txt', 'r') as f:\n",
        "    # lire chaque ligne du fichier\n",
        "    lignes = f.readlines()\n",
        "    \n",
        "    # ajouter chaque ligne du fichier au tableau\n",
        "    for ligne in lignes:\n",
        "        tableau.append(ligne.strip())\n",
        "\n",
        "import random \n",
        "random_elements = random.sample(tableau, 6)\n",
        "print(len(random_elements))\n",
        "\n",
        "for num in random_elements:\n",
        "  print('!gzip -r -d -v \"/content/thor.robots.ox.ac.uk/~vgg/data/bobsl/features/i3d_c2281_16f_m8_-15_4_d0.8_-3_22/' + str(num) + '/features.mat.gz\"')"
      ],
      "metadata": {
        "id": "_2gLpladnDWk"
      },
      "execution_count": null,
      "outputs": []
    },
    {
      "cell_type": "code",
      "source": [
        "!gzip -r -d -v \"/content/thor.robots.ox.ac.uk/~vgg/data/bobsl/features/i3d_c2281_16f_m8_-15_4_d0.8_-3_22/5241208291627130322/features.mat.gz\"\n",
        "!gzip -r -d -v \"/content/thor.robots.ox.ac.uk/~vgg/data/bobsl/features/i3d_c2281_16f_m8_-15_4_d0.8_-3_22/5379637235891092182/features.mat.gz\"\n",
        "!gzip -r -d -v \"/content/thor.robots.ox.ac.uk/~vgg/data/bobsl/features/i3d_c2281_16f_m8_-15_4_d0.8_-3_22/5319140043716345577/features.mat.gz\"\n",
        "!gzip -r -d -v \"/content/thor.robots.ox.ac.uk/~vgg/data/bobsl/features/i3d_c2281_16f_m8_-15_4_d0.8_-3_22/5535496873768694908/features.mat.gz\"\n",
        "!gzip -r -d -v \"/content/thor.robots.ox.ac.uk/~vgg/data/bobsl/features/i3d_c2281_16f_m8_-15_4_d0.8_-3_22/5213407827313563421/features.mat.gz\"\n",
        "!gzip -r -d -v \"/content/thor.robots.ox.ac.uk/~vgg/data/bobsl/features/i3d_c2281_16f_m8_-15_4_d0.8_-3_22/5361600949431290479/features.mat.gz\""
      ],
      "metadata": {
        "id": "grmIiCtai_N-"
      },
      "execution_count": null,
      "outputs": []
    },
    {
      "cell_type": "code",
      "source": [
        "with open('/content/subtitle_align-main/data/bobsl_val_5.txt', 'w') as f:\n",
        "    for element in random_elements:\n",
        "        f.write(str(element) + '\\n')"
      ],
      "metadata": {
        "id": "jcExEFxtnQmZ"
      },
      "execution_count": 18,
      "outputs": []
    },
    {
      "cell_type": "code",
      "source": [
        "!wget \"https://www.robots.ox.ac.uk/~vgg/research/bsldensify/data/annotations.pkl.zip\""
      ],
      "metadata": {
        "id": "a_3PvX6-nzK4"
      },
      "execution_count": null,
      "outputs": []
    },
    {
      "cell_type": "code",
      "source": [
        "!unzip \"/content/annotations.pkl.zip\""
      ],
      "metadata": {
        "id": "JB4bIzBQn2jp"
      },
      "execution_count": null,
      "outputs": []
    },
    {
      "cell_type": "code",
      "source": [
        "#import zip\n",
        "!zip -r /content/model_0000064350.pt.zip / content/subtitle_align-main/inference_output/word_pretrain/checkpoints/model_0000064350.pt"
      ],
      "metadata": {
        "id": "kYaVpohgmBlo"
      },
      "execution_count": null,
      "outputs": []
    },
    {
      "cell_type": "code",
      "source": [
        "from google.colab import files\n",
        "files.download('/content/subtitle_align-main/inference_output/word_pretrain/checkpoints/model_0000064350.pt')\n"
      ],
      "metadata": {
        "id": "8kKcTwS_lJc3"
      },
      "execution_count": null,
      "outputs": []
    }
  ]
}